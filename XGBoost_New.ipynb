{
 "cells": [
  {
   "cell_type": "code",
   "execution_count": 8,
   "id": "cda309a9-c4ed-4e84-b22e-93ff71508867",
   "metadata": {},
   "outputs": [
    {
     "name": "stdout",
     "output_type": "stream",
     "text": [
      "Model and encoders saved successfully.\n"
     ]
    },
    {
     "name": "stderr",
     "output_type": "stream",
     "text": [
      "/opt/anaconda3/lib/python3.12/site-packages/xgboost/training.py:183: UserWarning: [12:35:29] WARNING: /Users/runner/work/xgboost/xgboost/src/learner.cc:738: \n",
      "Parameters: { \"use_label_encoder\" } are not used.\n",
      "\n",
      "  bst.update(dtrain, iteration=i, fobj=obj)\n"
     ]
    }
   ],
   "source": [
    "import pandas as pd\n",
    "import xgboost as xgb\n",
    "from sklearn.model_selection import train_test_split\n",
    "from sklearn.preprocessing import LabelEncoder\n",
    "import pickle\n",
    "\n",
    "# Load the data\n",
    "df = pd.read_csv(\"placement_synthetic_data_5000.csv\")\n",
    "\n",
    "# Encode categorical variables\n",
    "label_encoders = {}\n",
    "categorical_columns = ['gender', 'stream', 'leadership_role', 'final_package']\n",
    "\n",
    "for col in categorical_columns:\n",
    "    le = LabelEncoder()\n",
    "    df[col] = le.fit_transform(df[col])\n",
    "    label_encoders[col] = le  # Save encoders for later use\n",
    "\n",
    "# Separate features and target\n",
    "X = df.drop(\"final_package\", axis=1)\n",
    "y = df[\"final_package\"]\n",
    "\n",
    "# Train-test split\n",
    "X_train, X_test, y_train, y_test = train_test_split(X, y, test_size=0.2, random_state=42)\n",
    "\n",
    "# Train XGBoost model\n",
    "model = xgb.XGBClassifier(objective=\"multi:softmax\", num_class=5, eval_metric=\"mlogloss\", use_label_encoder=False)\n",
    "model.fit(X_train, y_train)\n",
    "\n",
    "# Save model and encoders\n",
    "with open(\"xgb_model.pkl\", \"wb\") as f:\n",
    "    pickle.dump(model, f)\n",
    "\n",
    "with open(\"label_encoders.pkl\", \"wb\") as f:\n",
    "    pickle.dump(label_encoders, f)\n",
    "\n",
    "print(\"Model and encoders saved successfully.\")\n"
   ]
  },
  {
   "cell_type": "code",
   "execution_count": 10,
   "id": "c7dcb60b-d2be-41f5-8006-b215a58c2f91",
   "metadata": {},
   "outputs": [
    {
     "name": "stdout",
     "output_type": "stream",
     "text": [
      "🔍 Accuracy on test set: 0.92\n",
      "\n",
      "📊 Classification Report:\n",
      "                 precision    recall  f1-score   support\n",
      "\n",
      "   11 - 15 LPA       0.80      0.82      0.81       109\n",
      "   16 - 20 LPA       0.65      0.50      0.56        22\n",
      "21 LPA or more       0.00      0.00      0.00         3\n",
      "     3 - 6 LPA       0.97      0.96      0.96       500\n",
      "    7 - 10 LPA       0.90      0.93      0.92       366\n",
      "\n",
      "      accuracy                           0.92      1000\n",
      "     macro avg       0.66      0.64      0.65      1000\n",
      "  weighted avg       0.92      0.92      0.92      1000\n",
      "\n",
      "\n",
      "🧱 Confusion Matrix:\n",
      " [[ 89   3   0   0  17]\n",
      " [ 11  11   0   0   0]\n",
      " [  0   3   0   0   0]\n",
      " [  0   0   0 478  22]\n",
      " [ 11   0   0  13 342]]\n"
     ]
    },
    {
     "name": "stderr",
     "output_type": "stream",
     "text": [
      "/opt/anaconda3/lib/python3.12/site-packages/sklearn/metrics/_classification.py:1531: UndefinedMetricWarning: Precision is ill-defined and being set to 0.0 in labels with no predicted samples. Use `zero_division` parameter to control this behavior.\n",
      "  _warn_prf(average, modifier, f\"{metric.capitalize()} is\", len(result))\n",
      "/opt/anaconda3/lib/python3.12/site-packages/sklearn/metrics/_classification.py:1531: UndefinedMetricWarning: Precision is ill-defined and being set to 0.0 in labels with no predicted samples. Use `zero_division` parameter to control this behavior.\n",
      "  _warn_prf(average, modifier, f\"{metric.capitalize()} is\", len(result))\n",
      "/opt/anaconda3/lib/python3.12/site-packages/sklearn/metrics/_classification.py:1531: UndefinedMetricWarning: Precision is ill-defined and being set to 0.0 in labels with no predicted samples. Use `zero_division` parameter to control this behavior.\n",
      "  _warn_prf(average, modifier, f\"{metric.capitalize()} is\", len(result))\n"
     ]
    }
   ],
   "source": [
    "import pickle\n",
    "import pandas as pd\n",
    "from sklearn.model_selection import train_test_split\n",
    "from sklearn.metrics import accuracy_score, classification_report, confusion_matrix\n",
    "import xgboost as xgb\n",
    "\n",
    "# Load the dataset\n",
    "df = pd.read_csv(\"placement_synthetic_data_5000.csv\")\n",
    "\n",
    "# Load encoders\n",
    "with open(\"label_encoders.pkl\", \"rb\") as f:\n",
    "    label_encoders = pickle.load(f)\n",
    "\n",
    "# Encode categorical features\n",
    "df_encoded = df.copy()\n",
    "for col in [\"gender\", \"stream\", \"leadership_role\", \"final_package\"]:\n",
    "    df_encoded[col] = label_encoders[col].transform(df_encoded[col])\n",
    "\n",
    "# Split features and target\n",
    "X = df_encoded.drop(\"final_package\", axis=1)\n",
    "y = df_encoded[\"final_package\"]\n",
    "\n",
    "# Train-test split (same as before)\n",
    "X_train, X_test, y_train, y_test = train_test_split(X, y, test_size=0.2, random_state=42)\n",
    "\n",
    "# Load model\n",
    "with open(\"xgb_model.pkl\", \"rb\") as f:\n",
    "    model = pickle.load(f)\n",
    "\n",
    "# Predict and evaluate\n",
    "y_pred = model.predict(X_test)\n",
    "\n",
    "print(\"🔍 Accuracy on test set:\", accuracy_score(y_test, y_pred))\n",
    "print(\"\\n📊 Classification Report:\\n\", classification_report(y_test, y_pred, target_names=label_encoders[\"final_package\"].classes_))\n",
    "print(\"\\n🧱 Confusion Matrix:\\n\", confusion_matrix(y_test, y_pred))\n"
   ]
  },
  {
   "cell_type": "code",
   "execution_count": null,
   "id": "6e268591-87dc-411f-9760-3393819c2b68",
   "metadata": {},
   "outputs": [],
   "source": []
  }
 ],
 "metadata": {
  "kernelspec": {
   "display_name": "Python [conda env:base] *",
   "language": "python",
   "name": "conda-base-py"
  },
  "language_info": {
   "codemirror_mode": {
    "name": "ipython",
    "version": 3
   },
   "file_extension": ".py",
   "mimetype": "text/x-python",
   "name": "python",
   "nbconvert_exporter": "python",
   "pygments_lexer": "ipython3",
   "version": "3.12.7"
  }
 },
 "nbformat": 4,
 "nbformat_minor": 5
}
